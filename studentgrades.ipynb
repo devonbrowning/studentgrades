{
 "cells": [
  {
   "cell_type": "code",
   "execution_count": 35,
   "id": "9782232a-e570-4238-9d10-5011a6fd0e3a",
   "metadata": {},
   "outputs": [],
   "source": [
    "import numpy as np\n",
    "import pandas as pd\n",
    "import statistics"
   ]
  },
  {
   "cell_type": "code",
   "execution_count": 30,
   "id": "f608c9ba-3e3b-41eb-8a76-961417965e80",
   "metadata": {},
   "outputs": [
    {
     "name": "stdout",
     "output_type": "stream",
     "text": [
      "     Name  Math  Science  Reading  History\n",
      "0    Adam  11.0      9.0     16.0     13.5\n",
      "1    Anna  12.0     11.0      8.5     10.0\n",
      "2   James  11.0     18.0     11.5      9.0\n",
      "3   Corey   7.0     15.5     11.0     14.0\n",
      "4  Alisha   9.5     12.0     10.5     14.0\n",
      "5   Jodie  15.0     18.5      7.0     12.0\n",
      "6    John  18.0     15.5     11.0      7.5\n"
     ]
    }
   ],
   "source": [
    "data = {\n",
    "    'Name': ['Adam', 'Anna', 'James', 'Corey', 'Alisha', 'Jodie', 'John'],\n",
    "    'Math': [11, 12, 11, 7, 9.5, 15, 18],\n",
    "    'Science': [9, 11, 18, 15.5, 12, 18.5, 15.5],\n",
    "    'Reading': [16, 8.5, 11.5, 11, 10.5, 7, 11],\n",
    "    'History': [13.5, 10, 9, 14, 14, 12, 7.5]\n",
    "}\n",
    "# Convert dict to a pandas DataFrame\n",
    "df = pd.DataFrame(data)\n",
    "\n",
    "print(df)"
   ]
  },
  {
   "cell_type": "code",
   "execution_count": 32,
   "id": "57f6f084-f25e-4018-9495-b381afb73f49",
   "metadata": {},
   "outputs": [
    {
     "name": "stdout",
     "output_type": "stream",
     "text": [
      "Math       11.928571\n",
      "Science    14.214286\n",
      "Reading    10.785714\n",
      "History    11.428571\n",
      "dtype: float64\n"
     ]
    }
   ],
   "source": [
    "# calculate mean for each individual subject\n",
    "grade_means = df[['Math', 'Science', 'Reading', 'History']].mean()\n",
    "print(grade_means)"
   ]
  },
  {
   "cell_type": "code",
   "execution_count": 33,
   "id": "cbd74454-4373-4c85-99df-f8b467dfd18d",
   "metadata": {},
   "outputs": [
    {
     "name": "stdout",
     "output_type": "stream",
     "text": [
      "Median grade in Math: 11.0\n"
     ]
    }
   ],
   "source": [
    "# Find the median grade in Math for all students\n",
    "median_math_grade = df['Math'].median()\n",
    "\n",
    "print(f\"Median grade in Math: {median_math_grade}\")"
   ]
  },
  {
   "cell_type": "code",
   "execution_count": 36,
   "id": "80fe1ee7-3a67-46d6-9bda-933453679848",
   "metadata": {},
   "outputs": [
    {
     "data": {
      "text/plain": [
       "14.0"
      ]
     },
     "execution_count": 36,
     "metadata": {},
     "output_type": "execute_result"
    }
   ],
   "source": [
    "# calculate mode for history\n",
    "statistics.mode(df['History'])"
   ]
  },
  {
   "cell_type": "code",
   "execution_count": 48,
   "id": "b589f7f1-244a-4c0e-b51c-6cf580b49148",
   "metadata": {},
   "outputs": [
    {
     "name": "stdout",
     "output_type": "stream",
     "text": [
      "Correlation matrix:\n",
      "             Math   Science   Reading   History\n",
      "Math     1.000000  0.269494 -0.268562 -0.718358\n",
      "Science  0.269494  1.000000 -0.527606 -0.358688\n",
      "Reading -0.268562 -0.527606  1.000000  0.206794\n",
      "History -0.718358 -0.358688  0.206794  1.000000\n"
     ]
    }
   ],
   "source": [
    "# calculate correlation between different subjects\n",
    "correlation = df[['Math', 'Science', 'Reading', 'History']].corr()\n",
    "\n",
    "print(\"Correlation matrix:\")\n",
    "print(correlation)"
   ]
  },
  {
   "cell_type": "code",
   "execution_count": 41,
   "id": "95c4bcee-7b6f-4d0f-ba72-c17612ff67c5",
   "metadata": {},
   "outputs": [],
   "source": [
    "# it appears Math and History have the strongest correlation--being -0.72 (closest to -1 and closer to -1 than the positives are to 1)"
   ]
  },
  {
   "cell_type": "code",
   "execution_count": 58,
   "id": "58f10cea-680c-4fb4-a4c3-7a8a76eec70a",
   "metadata": {},
   "outputs": [
    {
     "name": "stdout",
     "output_type": "stream",
     "text": [
      "\n",
      "Statistical calculations of math scores: \n",
      "mean: 59.47826086956522\n",
      "median: 60.0\n",
      "mode: 60\n",
      "minimum: 5\n",
      "maximum: 99\n",
      "range: 94\n",
      "variance: 664.1625708884687\n",
      "standard deviation: 25.771351747404882\n"
     ]
    }
   ],
   "source": [
    "# Question 3\n",
    "def desc_stats(numbers):\n",
    "    mean = np.mean(numbers)\n",
    "    median = np.median(numbers)\n",
    "    mode = statistics.mode(numbers)\n",
    "    minimum = np.min(numbers)\n",
    "    maximum = np.max(numbers)\n",
    "    range_score = maximum - minimum\n",
    "    variance = np.var(numbers)\n",
    "    std_dev = np.std(numbers)\n",
    "\n",
    "# Print results\n",
    "    print(f\"mean: {mean}\")\n",
    "    print(f\"median: {median}\")\n",
    "    print(f\"mode: {mode}\")\n",
    "    print(f\"minimum: {minimum}\")\n",
    "    print(f\"maximum: {maximum}\")\n",
    "    print(f\"range: {range_score}\")\n",
    "    print(f\"variance: {variance}\")\n",
    "    print(f\"standard deviation: {std_dev}\")\n",
    "\n",
    "numbers = [24, 5, 15, 60, 54, 82, 99, 80, 70, 98, 93, 60, 33, 22, 65, 61, 51, 58, 83, 86, 42, 67, 60]\n",
    "print('\\nStatistical calculations of math scores: ')\n",
    "desc_stats(numbers)"
   ]
  },
  {
   "cell_type": "code",
   "execution_count": 59,
   "id": "cb081171-bd87-4a00-9e3a-2535dc4a5c1a",
   "metadata": {},
   "outputs": [],
   "source": [
    "# Extended Challenge\n",
    "\n",
    "# the mean and median are close to eachother, meaning that a significant portion of students scored below passing (usually a D)\n",
    "# the range is quite wide and there was a lot of variability in student performance\n",
    "# Due to these observations (low scores, wide range, high std dev), curving would be warranted\n",
    "# this would ensure fairness and alignment with typical grading norms, while also making sure students are appropriately awarded for efforts relative to performance distribution observed."
   ]
  }
 ],
 "metadata": {
  "kernelspec": {
   "display_name": "Python 3 (ipykernel)",
   "language": "python",
   "name": "python3"
  },
  "language_info": {
   "codemirror_mode": {
    "name": "ipython",
    "version": 3
   },
   "file_extension": ".py",
   "mimetype": "text/x-python",
   "name": "python",
   "nbconvert_exporter": "python",
   "pygments_lexer": "ipython3",
   "version": "3.11.7"
  }
 },
 "nbformat": 4,
 "nbformat_minor": 5
}
